{
 "cells": [
  {
   "cell_type": "code",
   "execution_count": 1,
   "id": "2a32c1ac-b6ba-461e-8eaa-f1a980ad719f",
   "metadata": {},
   "outputs": [
    {
     "name": "stdout",
     "output_type": "stream",
     "text": [
      "4.11.0\n"
     ]
    }
   ],
   "source": [
    "import selenium\n",
    "print(selenium.__version__)"
   ]
  },
  {
   "cell_type": "code",
   "execution_count": 2,
   "id": "316d1eba-d414-4836-b7ec-06ed7a8021de",
   "metadata": {},
   "outputs": [
    {
     "name": "stdout",
     "output_type": "stream",
     "text": [
      "driver/\n",
      "    chromedriver.exe\n",
      "    LICENSE.chromedriver\n"
     ]
    }
   ],
   "source": [
    "import os\n",
    "\n",
    "def list_files(startpath):\n",
    "    for root, dirs, files in os.walk(startpath):\n",
    "        level = root.replace(startpath, '').count(os.sep)\n",
    "        indent = ' ' * 4 * (level)\n",
    "        print('{}{}/'.format(indent, os.path.basename(root)))\n",
    "        subindent = ' ' * 4 * (level + 1)\n",
    "        for f in files:\n",
    "            print('{}{}'.format(subindent, f))\n",
    "\n",
    "list_files(\"driver\")"
   ]
  },
  {
   "cell_type": "code",
   "execution_count": 3,
   "id": "e62d5c39-aa55-4763-94e8-e02eb3d6f2f3",
   "metadata": {},
   "outputs": [],
   "source": [
    "from selenium import webdriver\n",
    "from selenium.webdriver.chrome.service import Service\n",
    "\n",
    "CHROME_DRIVER_PATH = './driver/chromedriver.exe'\n",
    "service = Service(executable_path=CHROME_DRIVER_PATH)\n",
    "options = webdriver.ChromeOptions()\n",
    "driver = webdriver.Chrome(service=service, options=options)\n",
    "\n",
    "driver.get('https://www.naver.com/')"
   ]
  },
  {
   "cell_type": "code",
   "execution_count": 23,
   "id": "4085a9d3-0b38-478b-892e-26602236f02b",
   "metadata": {},
   "outputs": [],
   "source": [
    "driver.quit()"
   ]
  },
  {
   "cell_type": "code",
   "execution_count": 21,
   "id": "11d84d2b-8a19-43de-9b62-6f390a097138",
   "metadata": {},
   "outputs": [
    {
     "name": "stdout",
     "output_type": "stream",
     "text": [
      " 찾은 이미지 개수: 48\n"
     ]
    }
   ],
   "source": [
    "from selenium import webdriver\n",
    "from selenium.webdriver.chrome.service import Service\n",
    "from selenium.webdriver.common.keys import Keys\n",
    "from selenium.webdriver.common.by import By\n",
    "import time\n",
    "\n",
    "CHROME_DRIVER_PATH = './driver/chromedriver.exe'\n",
    "service = Service(executable_path=CHROME_DRIVER_PATH)\n",
    "options = webdriver.ChromeOptions()\n",
    "driver = webdriver.Chrome(service=service, options=options)\n",
    "\n",
    "URL='https://www.google.co.kr/imghp'\n",
    "driver.get(url=URL)\n",
    "\n",
    "elem = driver.find_element(By.CSS_SELECTOR, \"body > div.L3eUgb > div.o3j99.ikrT4e.om7nvf > form > div:nth-child(1) > div.A8SBwf > div.RNNXgb > div > div.a4bIc > textarea.gLFyf\")\n",
    "elem.send_keys(\"보라카이\")\n",
    "elem.send_keys(Keys.RETURN)\n",
    "\n",
    "elem = driver.find_element(By.TAG_NAME, \"body\")\n",
    "for i in range(60):\n",
    "    elem.send_keys(Keys.PAGE_DOWN)\n",
    "    time.sleep(0.1)\n",
    "\n",
    "try:\n",
    "    driver.find_element(By.CSS_SELECTOR, \"#islmp > div > div > div > div.gBPM8 > div.qvfT1 > div.YstHxe > input\").click\n",
    "    for i in range(60):\n",
    "        elem.send_keys(Keys.PAGE_DOWN)\n",
    "        time.sleep(0.1)\n",
    "except:\n",
    "    pass\n",
    "\n",
    "links=[] \n",
    "images = driver.find_elements(By.CSS_SELECTOR, \"#islrg > div.islrc > div > a.wXeWr.islib.nfEiy > div.bRMDJf.islir > img\")\n",
    "\n",
    "for image in images:\n",
    "    if image.get_attribute('src') is not None:\n",
    "        links.append(image.get_attribute('src'))\n",
    "        \n",
    "print(' 찾은 이미지 개수:',len(links))"
   ]
  },
  {
   "cell_type": "code",
   "execution_count": 22,
   "id": "cbaef27b-d7fe-465b-89cb-ebdcabd58b09",
   "metadata": {},
   "outputs": [
    {
     "name": "stdout",
     "output_type": "stream",
     "text": [
      "다운로드 완료하였습니다.\n"
     ]
    }
   ],
   "source": [
    "import urllib.request\n",
    "\n",
    "for k, i in enumerate(links):\n",
    "    url = i\n",
    "    urllib.request.urlretrieve(url, \".\\\\사진다운로드\\\\\"+str(k)+\".jpg\")\n",
    "\n",
    "print('다운로드 완료하였습니다.')"
   ]
  },
  {
   "cell_type": "code",
   "execution_count": 35,
   "id": "ba0f47f1-2f6d-4f6c-b593-0ab3528650b2",
   "metadata": {},
   "outputs": [],
   "source": [
    "driver.quit()"
   ]
  },
  {
   "cell_type": "code",
   "execution_count": 36,
   "id": "5a37774e-f337-40f9-bee1-d8436b824db3",
   "metadata": {
    "scrolled": true
   },
   "outputs": [
    {
     "data": {
      "text/plain": [
       "['잼버리',\n",
       " '살인 예고 글',\n",
       " '태풍 카눈 북상에',\n",
       " '류현진',\n",
       " '세계 고양이의 날',\n",
       " '파두',\n",
       " '경상수지 58.7억달러',\n",
       " '최원종',\n",
       " '입추',\n",
       " '초전도체']"
      ]
     },
     "execution_count": 36,
     "metadata": {},
     "output_type": "execute_result"
    }
   ],
   "source": [
    "from selenium import webdriver\n",
    "from selenium.webdriver.chrome.service import Service as ChromeService\n",
    "from webdriver_manager.chrome import ChromeDriverManager\n",
    "from selenium.webdriver.common.keys import Keys\n",
    "from selenium.webdriver.common.by import By\n",
    "import time\n",
    "\n",
    "driver = webdriver.Chrome(service=Service(ChromeDriverManager().install()))\n",
    "URL='https://signal.bz/news'\n",
    "driver.get(url=URL)\n",
    "results = driver.find_elements(By.CSS_SELECTOR, \"#app > div > main > div > section > div > section > section:nth-child(2) > div:nth-child(2) > div > div > div > a > span.rank-text\")\n",
    "results\n",
    "\n",
    "keyword_list = []\n",
    "for keyword in results:\n",
    "    keyword_list.append(keyword.text)\n",
    "keyword_list"
   ]
  },
  {
   "cell_type": "code",
   "execution_count": 51,
   "id": "501a7b4f-055a-4dc1-b749-b4bc59dcbcf9",
   "metadata": {},
   "outputs": [],
   "source": [
    "driver.quit()"
   ]
  },
  {
   "cell_type": "code",
   "execution_count": 52,
   "id": "c4a352e8-96d3-4983-8374-4eae0e318bdd",
   "metadata": {},
   "outputs": [
    {
     "data": {
      "text/plain": [
       "['6_잼버리 대원들',\n",
       " '7_서울대공원서 시베리아호랑이 파악',\n",
       " '8_中 윤동주 폐쇄',\n",
       " '9_입추',\n",
       " '10_신성록',\n",
       " '1_태풍 카눈 북상에',\n",
       " '2_경상수지 두 달',\n",
       " '3_잼버리',\n",
       " '4_류현진 강습 타구',\n",
       " '5_사고 위장 부사관']"
      ]
     },
     "execution_count": 52,
     "metadata": {},
     "output_type": "execute_result"
    }
   ],
   "source": [
    "from selenium import webdriver\n",
    "from selenium.webdriver.chrome.service import Service as ChromeService\n",
    "from webdriver_manager.chrome import ChromeDriverManager\n",
    "from selenium.webdriver.common.keys import Keys\n",
    "from selenium.webdriver.common.by import By\n",
    "import time\n",
    "\n",
    "driver = webdriver.Chrome(service=Service(ChromeDriverManager().install()))\n",
    "URL='https://www.nate.com/'\n",
    "driver.get(url=URL)\n",
    "\n",
    "keyword_list = []\n",
    "for i in range(2):\n",
    "    time.sleep(10)\n",
    "    order_num = driver.find_elements(By.CSS_SELECTOR, \"#olLiveIssueKeyword > li > span\")\n",
    "    results = driver.find_elements(By.CSS_SELECTOR, \"#olLiveIssueKeyword > li > a > span.txt_rank\")\n",
    "    for order_num, keyword in zip(order_num, results):\n",
    "        keyword_list.append(order_num.text + '_' + keyword.text)\n",
    "\n",
    "keyword_list"
   ]
  },
  {
   "cell_type": "code",
   "execution_count": 53,
   "id": "5ff4ce5d-3601-4a76-8ce1-8a1b3c784ffc",
   "metadata": {},
   "outputs": [],
   "source": [
    "driver.quit()"
   ]
  },
  {
   "cell_type": "code",
   "execution_count": null,
   "id": "dc3ba1e8-75b6-4d7b-8bec-20522aee365c",
   "metadata": {},
   "outputs": [],
   "source": [
    "from selenium import webdriver\n",
    "from selenium.webdriver.chrome.service import Service as ChromeService\n",
    "from webdriver_manager.chrome import ChromeDriverManager\n",
    "from selenium.webdriver.common.keys import Keys\n",
    "from selenium.webdriver.common.by import By\n",
    "import time\n",
    "\n",
    "driver = webdriver.Chrome(service=ChromeService(ChromeDriverManager().install()))\n",
    "nate_list_1st = []\n",
    "nate_list_2nd = []\n",
    "for i in range(2):\n",
    "    URL='https://www.nate.com'\n",
    "    driver.get(url=URL) \n",
    "    rank_results = driver.find_elements(By.CSS_SELECTOR,'#olLiveIssueKeyword > li > span.num_rank')\n",
    "    nate_results = driver.find_elements(By.CSS_SELECTOR,'#olLiveIssueKeyword > li > a > span.txt_rank')\n",
    "    for rank, keyword in zip(rank_results, nate_results):\n",
    "        if i == 0:\n",
    "            nate_list_1st.append(f'{rank.text}_{keyword.text}')\n",
    "        elif i == 1:\n",
    "            nate_list_2nd.append(f'{rank.text}_{keyword.text}')\n",
    "    time.sleep(5)\n",
    "    driver.refresh()\n",
    "result = nate_list_1st + nate_list_2nd\n",
    "\n",
    "print(result)\n",
    "driver.quit()"
   ]
  },
  {
   "cell_type": "code",
   "execution_count": 1,
   "id": "0073ae00-8cc5-4ff0-a59e-a3a180795b74",
   "metadata": {},
   "outputs": [
    {
     "name": "stdout",
     "output_type": "stream",
     "text": [
      "[ssg] 슈퍼플라워 SF-850F14XG LEADEX VII GOLD ATX 3.0 ( 172000 / 3000 )\n",
      "https://www.ppomppu.co.kr/zboard/view.php?id=ppomppu&page=1&divpage=80&no=477022\n",
      "[LF몰]베른 VST 플랫 테이블 L 슬림 폴딩 접이식 (144,490원/무료)\n",
      "https://www.ppomppu.co.kr/zboard/view.php?id=ppomppu&page=1&divpage=80&no=477021\n",
      "[G마켓]1+1 아쿠아 드라이 방수백 5L 비치 물놀이 수영 가방 (+사은품 휴대폰방수팩2개) (12,780원/무배)\n",
      "https://www.ppomppu.co.kr/zboard/view.php?id=ppomppu&page=1&divpage=80&no=477020\n",
      "[KFC 매장] 말복 버켓 블랙라벨치킨 8+치즈볼 3개 (16900/수령시 무료)\n",
      "https://www.ppomppu.co.kr/zboard/view.php?id=ppomppu&page=1&divpage=80&no=477019\n",
      "[옥션] 삼성 비스포크 무풍 에어컨 윈도우핏 화이트(AW06C7155WWAZ) (759,430/무)\n",
      "https://www.ppomppu.co.kr/zboard/view.php?id=ppomppu&page=1&divpage=80&no=477018\n",
      "[11번가] (1,299,600원) 삼성전자 비스포크 냉장고 RF84C906B4W 875리터 매트 멜로우 화이트\n",
      "https://www.ppomppu.co.kr/zboard/view.php?id=ppomppu&page=1&divpage=80&no=477017\n",
      "[네이버] 비비고 사골곰탕 500g 18개(12,840원/무료)\n",
      "https://www.ppomppu.co.kr/zboard/view.php?id=ppomppu&page=1&divpage=80&no=477016\n",
      "[네이버] 테팔 원픽 냄비팬 22cm (30,800원/무료) 쿠폰 적용시 25,460원\n",
      "https://www.ppomppu.co.kr/zboard/view.php?id=ppomppu&page=1&divpage=80&no=477015\n",
      "[티몬] 정다운 허브/마늘 훈제오리 200g 8팩 (28,400원/무배)\n",
      "https://www.ppomppu.co.kr/zboard/view.php?id=ppomppu&page=1&divpage=80&no=477014\n",
      "[지마켓] 하기스 매직썸머 팬티 4-6단계 6팩(113,850원/무배)\n",
      "https://www.ppomppu.co.kr/zboard/view.php?id=ppomppu&page=1&divpage=80&no=477013\n",
      "[11번가] 다이비프로 풀페이스 스노쿨링마스크 (19,900/무료)\n",
      "https://www.ppomppu.co.kr/zboard/view.php?id=ppomppu&page=1&divpage=80&no=477012\n",
      "[롯데ON] 한우 1+ 차돌박이 냉장 300g 1팩 (9,560원, 배송비 4,000원)\n",
      "https://www.ppomppu.co.kr/zboard/view.php?id=ppomppu&page=1&divpage=80&no=477011\n",
      "[쿠팡] 크리넥스 핸드타올 총 2000매 + 전용용기 1세트 (17820/무료)\n",
      "https://www.ppomppu.co.kr/zboard/view.php?id=ppomppu&page=1&divpage=80&no=477009\n",
      "[하이버] 팔꾸이 팔당 오징어 볶음 470g (9,900원/무료)\n",
      "https://www.ppomppu.co.kr/zboard/view.php?id=ppomppu&page=1&divpage=80&no=477008\n",
      "[G마켓] 도브 비누 화이트바 135g 12개 (14,030원/무료) 삼성/하나/우리 12,630원\n",
      "https://www.ppomppu.co.kr/zboard/view.php?id=ppomppu&page=1&divpage=80&no=477007\n",
      "[티몬] 스너글 실내건조 무드테라피 섬유유연제 4L+2.6L+견본100m (27,920원/무료)\n",
      "https://www.ppomppu.co.kr/zboard/view.php?id=ppomppu&page=1&divpage=80&no=477006\n",
      "[카카오톡딜] 스팀보이 아이스 냉수 매트 & 냉 온수매트 (55,000원~ / 무료배송)\n",
      "https://www.ppomppu.co.kr/zboard/view.php?id=ppomppu&page=1&divpage=80&no=477005\n",
      "[윙잇] 랠리 곤약김밥 10종 맛보기 세트 (39980원/무료)\n",
      "https://www.ppomppu.co.kr/zboard/view.php?id=ppomppu&page=1&divpage=80&no=477004\n",
      "[11번가]착한떡 꿀백설기or우유백설기 20개 (7,490/무료)\n",
      "https://www.ppomppu.co.kr/zboard/view.php?id=ppomppu&page=1&divpage=80&no=477003\n",
      "[11번가] 붕어빵 엘리트 올인원 프리마 카민 70매 20팩 75gsm (22,900원/무료)\n",
      "https://www.ppomppu.co.kr/zboard/view.php?id=ppomppu&page=1&divpage=80&no=477002\n",
      "집으로 ON 아이라이킷 입점기념 특가\n",
      "https://www.ppomppu.co.kr/zboard/view.php?id=pmarket&&no=286846\n",
      "[11번가 LIVE 17:00~18:30] 갤럭시 Z플립5ㅣZ폴드5 자급제 마지막LIVE방송! 파격혜택 (전카드사할인까지)\n",
      "https://www.ppomppu.co.kr/zboard/view.php?id=pmarket&&no=286842\n",
      "위메프 디지털위크 LG시네빔 PF610P 59만원 전제품 할인혜택 역대급 특가 놓치지마세요! 오늘의집 소니XLG시네빔 콜라보혜택\n",
      "https://www.ppomppu.co.kr/zboard/view.php?id=pmarket&&no=286853\n",
      "[위메프] 은나노스텝 1+3 (500+300+300+300)ml 고급다용도 세정제 (7800원/무료)\n",
      "https://www.ppomppu.co.kr/zboard/view.php?id=pmarket&&no=286848\n",
      "[G마켓] 갤럭시 Z플립5ㅣZ폴드5 자급제 마지막사전판매 LIVE [최대 3만원 신세계 상품권 + 경품이벤트]\n",
      "https://www.ppomppu.co.kr/zboard/view.php?id=pmarket&&no=286843\n",
      "오늘의집xLG시네빔 브랜드위크 역대급 할인 쿠폰+카드+사은품 소니콜라보 혜택까지 놓치지마세요!\n",
      "https://www.ppomppu.co.kr/zboard/view.php?id=pmarket&&no=286841\n",
      "[롯데홈쇼핑] LG그램 15인치 노트북 브랜드위크 단독 할인 타임특가 찬스!\n",
      "https://www.ppomppu.co.kr/zboard/view.php?id=pmarket&&no=286851\n",
      "[이벤트] 쇼핑포럼 매일 상품 공유 이벤트 2탄, 티몬! (~8/15)\n",
      "https://www.ppomppu.co.kr/zboard/view.php?id=social&no=37708\n",
      "리복 플렉사곤 포스 3 남성신발 (56,307원)\n",
      "https://www.ppomppu.co.kr/hotdeal/?no=28209880\n",
      "[옥션] 훈제오리 180g 6팩+ 1팩 무료증정 배송비무료\n",
      "https://www.ppomppu.co.kr/zboard/view.php?id=social&no=37786\n",
      "펩시제로슈거 무라벨 라임 300ml 20펫 (12,720 / 무배)\n",
      "https://www.ppomppu.co.kr/zboard/view.php?id=social&no=37785\n",
      "[안내] 8월 7일자 쇼핑포럼 매일 티몬 상품 공유 이벤트 뽐쿠폰 지급 완료\n",
      "https://www.ppomppu.co.kr/zboard/view.php?id=social&no=37784\n"
     ]
    }
   ],
   "source": [
    "from selenium import webdriver\n",
    "from selenium.webdriver.chrome.service import Service as ChromeService\n",
    "from webdriver_manager.chrome import ChromeDriverManager\n",
    "from selenium.webdriver.common.keys import Keys\n",
    "from selenium.webdriver.common.by import By\n",
    "import time\n",
    "\n",
    "driver = webdriver.Chrome(service=ChromeService(ChromeDriverManager().install()))\n",
    "URL= 'https://www.ppomppu.co.kr/zboard/zboard.php?id=ppomppu'\n",
    "driver.get(url=URL)\n",
    "\n",
    "titles = driver.find_elements(By.CSS_SELECTOR, '#revolution_main_table > tbody > tr > td:nth-child(3) > table > tbody > tr > td:nth-child(2) > div > a > font')\n",
    "urls = driver.find_elements(By.CSS_SELECTOR, '#revolution_main_table > tbody > tr > td:nth-child(3) > table > tbody > tr > td:nth-child(2) > div > a')\n",
    "\n",
    "title_lists = []\n",
    "url_lists = []\n",
    "for i in range(len(titles)):\n",
    "    print(titles[i].text)\n",
    "    title_lists.append(titles[i].text)\n",
    "    print(urls[i].get_attribute('href'))\n",
    "    url_lists.append(urls[i].get_attribute('href'))"
   ]
  },
  {
   "cell_type": "code",
   "execution_count": 2,
   "id": "bb2f2638-1003-4b2b-a489-1ad85dc5c083",
   "metadata": {},
   "outputs": [],
   "source": [
    "driver.quit()"
   ]
  }
 ],
 "metadata": {
  "kernelspec": {
   "display_name": "Python 3 (ipykernel)",
   "language": "python",
   "name": "python3"
  },
  "language_info": {
   "codemirror_mode": {
    "name": "ipython",
    "version": 3
   },
   "file_extension": ".py",
   "mimetype": "text/x-python",
   "name": "python",
   "nbconvert_exporter": "python",
   "pygments_lexer": "ipython3",
   "version": "3.9.13"
  }
 },
 "nbformat": 4,
 "nbformat_minor": 5
}
