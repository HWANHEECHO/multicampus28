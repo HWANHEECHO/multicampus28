{
 "cells": [
  {
   "cell_type": "code",
   "execution_count": 7,
   "id": "3fb70198-9455-463b-9bd8-30ae7495c25b",
   "metadata": {},
   "outputs": [
    {
     "data": {
      "text/plain": [
       "'<?xml version=\"1.0\" encoding=\"UTF-8\" standalone=\"yes\"?><response><header><responseTime>2023-08-07T17:01:14.064+09:00</responseTime><resultCode>30</resultCode><resultMsg>SERVICE KEY IS NOT REGISTERED ERROR.</resultMsg></header></response>'"
      ]
     },
     "execution_count": 7,
     "metadata": {},
     "output_type": "execute_result"
    }
   ],
   "source": [
    "import requests\n",
    "import pandas as pd\n",
    "import lxml\n",
    "import xmltodict\n",
    "\n",
    "serviceKey = 'YjwuOSErCt4PB%2BANN4eK26d76AIC6dbwF52v%2FNkCmmZdIi4ZSXRSITMWtc2y%2B%2F8gjL6p4%2FBfiNZgoraqpsihDg%3D%3D'\n",
    "YY = 2012\n",
    "url = f'http://openapi.tour.go.kr/openapi/service/TourismAccdtService/getTourismTotqyList?serviceKey={serviceKey}&YY={YY}'\n",
    "req = requests.get(url)\n",
    "req.text"
   ]
  }
 ],
 "metadata": {
  "kernelspec": {
   "display_name": "Python 3 (ipykernel)",
   "language": "python",
   "name": "python3"
  },
  "language_info": {
   "codemirror_mode": {
    "name": "ipython",
    "version": 3
   },
   "file_extension": ".py",
   "mimetype": "text/x-python",
   "name": "python",
   "nbconvert_exporter": "python",
   "pygments_lexer": "ipython3",
   "version": "3.9.13"
  }
 },
 "nbformat": 4,
 "nbformat_minor": 5
}
